{
 "cells": [
  {
   "cell_type": "code",
   "execution_count": null,
   "id": "019f35d3",
   "metadata": {},
   "outputs": [],
   "source": [
    "import pandas as pd\n",
    "import numpy as np\n",
    "import matplotlib.pyplot as plt\n",
    "import seaborn as sns\n",
    "import plotly.express as px\n",
    "%matplotlib inline\n",
    "p=pd.read_csv(\"hotelbookingdataset.csv\")\n",
    "p.head()"
   ]
  },
  {
   "cell_type": "code",
   "execution_count": null,
   "id": "b142687b",
   "metadata": {},
   "outputs": [],
   "source": [
    "p.describe()"
   ]
  },
  {
   "cell_type": "code",
   "execution_count": null,
   "id": "be265bf4",
   "metadata": {},
   "outputs": [],
   "source": [
    "p.shape"
   ]
  },
  {
   "cell_type": "code",
   "execution_count": null,
   "id": "b0144f89",
   "metadata": {},
   "outputs": [],
   "source": [
    "p.info()"
   ]
  },
  {
   "cell_type": "code",
   "execution_count": null,
   "id": "8107df92",
   "metadata": {},
   "outputs": [],
   "source": [
    "p.nunique()"
   ]
  },
  {
   "cell_type": "code",
   "execution_count": null,
   "id": "650648dc",
   "metadata": {},
   "outputs": [],
   "source": [
    "p.isnull().sum()"
   ]
  },
  {
   "cell_type": "markdown",
   "id": "e538867f",
   "metadata": {},
   "source": [
    "# data preprocessing- cleaning,reduction and transformation"
   ]
  },
  {
   "cell_type": "code",
   "execution_count": 7,
   "id": "c1a0c284",
   "metadata": {},
   "outputs": [],
   "source": [
    "p[\"total_days_of_staying\"]=p[\"stays_in_weekend_nights\"]+p[\"stays_in_week_nights\"]"
   ]
  },
  {
   "cell_type": "code",
   "execution_count": null,
   "id": "a422d136",
   "metadata": {},
   "outputs": [],
   "source": [
    "p[\"total_customers\"]=p[\"adults\"]+p[\"children\"]\n",
    "\n",
    "p.sum(numeric_only = True)\n"
   ]
  },
  {
   "cell_type": "code",
   "execution_count": null,
   "id": "0c30c528",
   "metadata": {},
   "outputs": [],
   "source": [
    "p.isnull().sum()"
   ]
  },
  {
   "cell_type": "markdown",
   "id": "ce121f45",
   "metadata": {},
   "source": [
    "# eda"
   ]
  },
  {
   "cell_type": "code",
   "execution_count": null,
   "id": "aa4ada08",
   "metadata": {},
   "outputs": [],
   "source": [
    "sns.set(style = \"darkgrid\")\n",
    "plt.title(\"Cancelled or not by each hotel\", fontdict = {'fontsize': 20})\n",
    "ax = sns.countplot(x = \"hotel\", hue = 'is_canceled', data = p)"
   ]
  },
  {
   "cell_type": "markdown",
   "id": "6b651c64",
   "metadata": {},
   "source": [
    "# lead time of each hotel-  is the period of time (most typically measured in calendar days) between when a guest makes the reservation and the actual check-in/arrival date."
   ]
  },
  {
   "cell_type": "code",
   "execution_count": null,
   "id": "36bd3948",
   "metadata": {},
   "outputs": [],
   "source": [
    "p.groupby('hotel')['lead_time'].sum()"
   ]
  },
  {
   "cell_type": "markdown",
   "id": "74d98c11",
   "metadata": {},
   "source": [
    "# customer visited and not visited in each hotel"
   ]
  },
  {
   "cell_type": "code",
   "execution_count": null,
   "id": "8ab3d43a",
   "metadata": {},
   "outputs": [],
   "source": [
    "p.groupby(['hotel','is_canceled'])[\"total_customers\"].sum()"
   ]
  },
  {
   "cell_type": "markdown",
   "id": "ee4f480a",
   "metadata": {},
   "source": [
    "# actual revenue and loss of  revenue of each hotel in each year "
   ]
  },
  {
   "cell_type": "code",
   "execution_count": null,
   "id": "b6da9129",
   "metadata": {},
   "outputs": [],
   "source": [
    "revenue=p.groupby(['hotel',\"is_canceled\",\"arrival_date_year\",\"deposit_type\"])['adr'].sum()\n",
    "revenue"
   ]
  },
  {
   "cell_type": "code",
   "execution_count": null,
   "id": "e5011b23",
   "metadata": {},
   "outputs": [],
   "source": [
    "plt.figure(figsize=(8,8))\n",
    "sns.countplot(x='arrival_date_year',hue='hotel', data=p,palette='husl')\n",
    "plt.title(\"Arrivals per year in Both hotels \",fontweight=\"bold\", size=20)\n"
   ]
  },
  {
   "cell_type": "code",
   "execution_count": null,
   "id": "5ebf80e1",
   "metadata": {},
   "outputs": [],
   "source": [
    "plt.figure(figsize=(15,8))\n",
    "sns.countplot(data = p, x =\"arrival_date_month\")\n",
    "plt.title('Arrivals per month',fontweight=\"bold\", size=20)"
   ]
  },
  {
   "cell_type": "code",
   "execution_count": null,
   "id": "9c213bd5",
   "metadata": {},
   "outputs": [],
   "source": [
    "import plotly.express as px\n",
    "fig=px.choropleth(p,locations=\"country\",color=\"total_customers\",scope=\"world\",title=\"visitors around the world\",hover_name=\"country\")\n",
    "fig.show()"
   ]
  },
  {
   "cell_type": "markdown",
   "id": "a6c4d4ff",
   "metadata": {},
   "source": [
    "#  customer satisfaction using spearman correlation with reduced features "
   ]
  },
  {
   "cell_type": "code",
   "execution_count": 21,
   "id": "d5c4db96",
   "metadata": {},
   "outputs": [],
   "source": [
    "from sklearn.model_selection import train_test_split\n",
    "from sklearn.preprocessing import StandardScaler\n",
    "from sklearn.ensemble import RandomForestClassifier\n",
    "from scipy import stats\n",
    "from sklearn.metrics import confusion_matrix, roc_auc_score, accuracy_score, plot_confusion_matrix, classification_report\n",
    "import warnings\n",
    "warnings.filterwarnings(action='ignore')"
   ]
  },
  {
   "cell_type": "code",
   "execution_count": 22,
   "id": "b1a4aa70",
   "metadata": {},
   "outputs": [],
   "source": [
    "p[\"hotel\"].replace([\"Resort Hotel\",\"City Hotel\"],[0,1],inplace=True)"
   ]
  },
  {
   "cell_type": "code",
   "execution_count": 23,
   "id": "9994c0e8",
   "metadata": {},
   "outputs": [],
   "source": [
    "x=p.drop([\n",
    "\"arrival_date_year\",\n",
    "\"arrival_date_month\",\n",
    "\"arrival_date_week_number\",\n",
    "\"arrival_date_day_of_month\",\n",
    "\"stays_in_weekend_nights\",\n",
    "\"stays_in_week_nights\",\n",
    "\"adults\",\n",
    "\"children\",\n",
    "\"babies\",\n",
    "\"meal\",\n",
    "\"country\",\n",
    "\"market_segment\",\n",
    "\"distribution_channel\",\n",
    "\"previous_cancellations\",\n",
    "\"previous_bookings_not_canceled\",\n",
    "\"reserved_room_type\",\n",
    "\"assigned_room_type\",\n",
    "\"deposit_type\",\n",
    "\"agent\",\n",
    "\"company\",\n",
    "\"days_in_waiting_list\",\n",
    "\"customer_type\",\n",
    "\"required_car_parking_spaces\",\n",
    "\"reservation_status\",\n",
    "\"reservation_status_date\"], axis=1)"
   ]
  },
  {
   "cell_type": "code",
   "execution_count": null,
   "id": "db6a2531",
   "metadata": {},
   "outputs": [],
   "source": [
    "x"
   ]
  },
  {
   "cell_type": "code",
   "execution_count": null,
   "id": "a87eee8d",
   "metadata": {},
   "outputs": [],
   "source": [
    "Resort_hotel = x.loc[x['hotel'] ==0]\n",
    "Resort_hotel"
   ]
  },
  {
   "cell_type": "code",
   "execution_count": null,
   "id": "72cd68fc",
   "metadata": {},
   "outputs": [],
   "source": [
    "corr =Resort_hotel.corr(method='spearman')\n",
    "# Generate a mask for the upper triangle\n",
    "mask = np.zeros_like(corr, dtype=np.bool)\n",
    "mask[np.triu_indices_from(mask)] = True\n",
    "\n",
    "# Set up the matplotlib figure\n",
    "f, ax = plt.subplots(figsize=(20, 18))\n",
    "\n",
    "# Draw the heatmap with the mask and correct aspect ratio\n",
    "sns.heatmap(corr, annot = True, mask=mask, cmap=\"YlGnBu\", center=0,\n",
    "            square=True, linewidths=.5)"
   ]
  },
  {
   "cell_type": "code",
   "execution_count": null,
   "id": "3f38178b",
   "metadata": {},
   "outputs": [],
   "source": [
    "city_hotel = x.loc[x['hotel'] ==1]\n",
    "city_hotel"
   ]
  },
  {
   "cell_type": "code",
   "execution_count": null,
   "id": "ef43f552",
   "metadata": {},
   "outputs": [],
   "source": [
    "corr = city_hotel.corr(method='spearman')\n",
    "# Generate a mask for the upper triangle\n",
    "mask = np.zeros_like(corr, dtype=np.bool)\n",
    "mask[np.triu_indices_from(mask)] = True\n",
    "\n",
    "# Set up the matplotlib figure\n",
    "f, ax = plt.subplots(figsize=(20, 18))\n",
    "\n",
    "# Draw the heatmap with the mask and correct aspect ratio\n",
    "sns.heatmap(corr, annot = True, mask=mask, cmap=\"YlGnBu\", center=0,\n",
    "            square=True, linewidths=.5)"
   ]
  },
  {
   "cell_type": "markdown",
   "id": "6f2edf18",
   "metadata": {},
   "source": [
    "# prediction of cancellation using supervised classifier"
   ]
  },
  {
   "cell_type": "code",
   "execution_count": 29,
   "id": "ee780de7",
   "metadata": {},
   "outputs": [],
   "source": [
    "features = ['hotel', 'lead_time', \"is_repeated_guest\",\"booking_changes\",\n",
    "           \"adr\",\"total_of_special_requests\",\"total_days_of_staying\",\"total_customers\"]\n",
    "target = ['is_canceled']\n",
    "\n",
    "X_train = x[features]\n",
    "y_train = x[target].to_numpy()\n",
    "X_test = x[features]\n",
    "y_test = x[target].to_numpy()\n",
    "\n",
    "# Normalize Features\n",
    "scaler = StandardScaler()\n",
    "X_train = scaler.fit_transform(X_train)\n",
    "X_test = scaler.fit_transform(X_test)"
   ]
  },
  {
   "cell_type": "code",
   "execution_count": 30,
   "id": "50c66d31",
   "metadata": {},
   "outputs": [],
   "source": [
    "def run_model(model, X_train, y_train, X_test, y_test, verbose=True):\n",
    "    if verbose == False:\n",
    "        model.fit(X_train,y_train, verbose=0)\n",
    "    else:\n",
    "        model.fit(X_train,y_train)\n",
    "    y_pred = model.predict(X_test)\n",
    "    roc_auc = roc_auc_score(y_test, y_pred)\n",
    "    print(\"ROC_AUC = {}\".format(roc_auc))\n",
    "    print(classification_report(y_test,y_pred,digits=5))\n",
    "    plot_confusion_matrix(model, X_test, y_test,cmap=plt.cm.Blues, normalize = 'all')\n",
    "    \n",
    "    return model, roc_auc"
   ]
  },
  {
   "cell_type": "markdown",
   "id": "ae9c84e8",
   "metadata": {},
   "source": [
    "# random forest - highest accuracy"
   ]
  },
  {
   "cell_type": "code",
   "execution_count": null,
   "id": "94fd45b1",
   "metadata": {},
   "outputs": [],
   "source": [
    "model_rf = RandomForestClassifier()\n",
    "model_rf, roc_auc_rf = run_model(model_rf, X_train, y_train, X_test, y_test)"
   ]
  },
  {
   "cell_type": "markdown",
   "id": "65391878",
   "metadata": {},
   "source": [
    "# lightgbm classifier"
   ]
  },
  {
   "cell_type": "code",
   "execution_count": null,
   "id": "5fd376b4",
   "metadata": {},
   "outputs": [],
   "source": [
    "import lightgbm as lgb\n",
    "model_lgb = lgb.LGBMClassifier()\n",
    "model_lgb, roc_auc_lgb = run_model(model_lgb, X_train, y_train, X_test, y_test)"
   ]
  },
  {
   "cell_type": "markdown",
   "id": "12708603",
   "metadata": {},
   "source": [
    "# catboost classifier"
   ]
  },
  {
   "cell_type": "code",
   "execution_count": null,
   "id": "895f4c00",
   "metadata": {},
   "outputs": [],
   "source": [
    "import catboost as cb\n",
    "\n",
    "model_cb = cb.CatBoostClassifier()\n",
    "model_cb, roc_auc_cb = run_model(model_cb, X_train, y_train, X_test, y_test, verbose=False)"
   ]
  },
  {
   "cell_type": "markdown",
   "id": "d7f4f89c",
   "metadata": {},
   "source": [
    "# xgboost classifier"
   ]
  },
  {
   "cell_type": "code",
   "execution_count": null,
   "id": "631bf257",
   "metadata": {},
   "outputs": [],
   "source": [
    "import xgboost as xgb\n",
    "\n",
    "\n",
    "model_xgb = xgb.XGBClassifier()\n",
    "model_xgb, roc_auc_xgb = run_model(model_xgb, X_train, y_train, X_test, y_test)"
   ]
  },
  {
   "cell_type": "code",
   "execution_count": null,
   "id": "68909ff0",
   "metadata": {},
   "outputs": [],
   "source": [
    "x"
   ]
  },
  {
   "cell_type": "markdown",
   "id": "0a68eb82",
   "metadata": {},
   "source": [
    "# hotel booking prediction"
   ]
  },
  {
   "cell_type": "code",
   "execution_count": null,
   "id": "443d8f32",
   "metadata": {},
   "outputs": [],
   "source": [
    "data={\"hotel\":[0], \"lead_time\":[450],\"is_repeated_guest\":[0],\"booking_changes\":[1],\n",
    "    \"adr\":[85],\"total_of_special_requests\":[0],\"total_days_of_staying\":[2],\"total_customers\":[2]}\n",
    "y=pd.DataFrame(data)\n",
    "y\n"
   ]
  },
  {
   "cell_type": "code",
   "execution_count": null,
   "id": "eef5da26",
   "metadata": {},
   "outputs": [],
   "source": [
    "featuresw=['hotel', 'lead_time', \"is_repeated_guest\",\"booking_changes\",\n",
    "           \"adr\",\"total_of_special_requests\",\"total_days_of_staying\",\"total_customers\"]\n",
    "test = y[featuresw]\n",
    "test = scaler.fit_transform(test)\n",
    "model=RandomForestClassifier()\n",
    "model.fit(X_train,y_train)\n",
    "y_pred = model.predict(test)\n",
    "print(y_pred) "
   ]
  },
  {
   "cell_type": "code",
   "execution_count": null,
   "id": "5f420336",
   "metadata": {},
   "outputs": [],
   "source": []
  }
 ],
 "metadata": {
  "kernelspec": {
   "display_name": "Python 3 (ipykernel)",
   "language": "python",
   "name": "python3"
  },
  "language_info": {
   "codemirror_mode": {
    "name": "ipython",
    "version": 3
   },
   "file_extension": ".py",
   "mimetype": "text/x-python",
   "name": "python",
   "nbconvert_exporter": "python",
   "pygments_lexer": "ipython3",
   "version": "3.9.13"
  }
 },
 "nbformat": 4,
 "nbformat_minor": 5
}
